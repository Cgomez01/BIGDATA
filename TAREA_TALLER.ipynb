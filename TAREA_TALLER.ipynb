{
  "nbformat": 4,
  "nbformat_minor": 0,
  "metadata": {
    "colab": {
      "name": "TAREA TALLER.ipynb",
      "provenance": [],
      "collapsed_sections": [
        "2_tRMknIQQQJ",
        "_t_OuGxxTT8-",
        "pksfcfJnTk8d"
      ],
      "authorship_tag": "ABX9TyMb9WLN5AiivnS7IGl/Y7Tc",
      "include_colab_link": true
    },
    "kernelspec": {
      "name": "python3",
      "display_name": "Python 3"
    },
    "language_info": {
      "name": "python"
    }
  },
  "cells": [
    {
      "cell_type": "markdown",
      "metadata": {
        "id": "view-in-github",
        "colab_type": "text"
      },
      "source": [
        "<a href=\"https://colab.research.google.com/github/Cgomez01/BIGDATA/blob/master/TAREA_TALLER.ipynb\" target=\"_parent\"><img src=\"https://colab.research.google.com/assets/colab-badge.svg\" alt=\"Open In Colab\"/></a>"
      ]
    },
    {
      "cell_type": "code",
      "execution_count": null,
      "metadata": {
        "id": "6Oy0kax8QO9p"
      },
      "outputs": [],
      "source": [
        ""
      ]
    },
    {
      "cell_type": "markdown",
      "source": [
        "#Carlos Armando Gomez Tarquino\n",
        "##TRABAJO TALLER GUIADO\n",
        "###PARA EL TABAJO USARE EL DATA DE AIRBNB DE NEW YOK"
      ],
      "metadata": {
        "id": "2_tRMknIQQQJ"
      }
    },
    {
      "cell_type": "markdown",
      "source": [
        "#1 Instalacion de librerias\n"
      ],
      "metadata": {
        "id": "_t_OuGxxTT8-"
      }
    },
    {
      "cell_type": "markdown",
      "source": [
        ""
      ],
      "metadata": {
        "id": "Bvq71wzhTRtZ"
      }
    },
    {
      "cell_type": "code",
      "source": [
        "!pip install -U -r 'https://raw.githubusercontent.com/HarryVargas96/UdeCataluna/main/data/requisitos'"
      ],
      "metadata": {
        "id": "sedFxMGUdiDV",
        "colab": {
          "base_uri": "https://localhost:8080/"
        },
        "outputId": "3be3a04d-545f-461a-c526-4bce357265cb"
      },
      "execution_count": 78,
      "outputs": [
        {
          "output_type": "stream",
          "name": "stdout",
          "text": [
            "Looking in indexes: https://pypi.org/simple, https://us-python.pkg.dev/colab-wheels/public/simple/\n",
            "Requirement already satisfied: seaborn in /usr/local/lib/python3.7/dist-packages (from -r https://raw.githubusercontent.com/HarryVargas96/UdeCataluna/main/data/requisitos (line 1)) (0.11.2)\n",
            "Requirement already satisfied: folium in /usr/local/lib/python3.7/dist-packages (from -r https://raw.githubusercontent.com/HarryVargas96/UdeCataluna/main/data/requisitos (line 2)) (0.12.1.post1)\n",
            "Requirement already satisfied: numpy in /usr/local/lib/python3.7/dist-packages (from -r https://raw.githubusercontent.com/HarryVargas96/UdeCataluna/main/data/requisitos (line 3)) (1.21.6)\n",
            "Requirement already satisfied: pandas in /usr/local/lib/python3.7/dist-packages (from -r https://raw.githubusercontent.com/HarryVargas96/UdeCataluna/main/data/requisitos (line 4)) (1.3.5)\n",
            "Requirement already satisfied: matplotlib in /usr/local/lib/python3.7/dist-packages (from -r https://raw.githubusercontent.com/HarryVargas96/UdeCataluna/main/data/requisitos (line 5)) (3.5.2)\n",
            "Requirement already satisfied: scipy>=1.0 in /usr/local/lib/python3.7/dist-packages (from seaborn->-r https://raw.githubusercontent.com/HarryVargas96/UdeCataluna/main/data/requisitos (line 1)) (1.4.1)\n",
            "Requirement already satisfied: python-dateutil>=2.7.3 in /usr/local/lib/python3.7/dist-packages (from pandas->-r https://raw.githubusercontent.com/HarryVargas96/UdeCataluna/main/data/requisitos (line 4)) (2.8.2)\n",
            "Requirement already satisfied: pytz>=2017.3 in /usr/local/lib/python3.7/dist-packages (from pandas->-r https://raw.githubusercontent.com/HarryVargas96/UdeCataluna/main/data/requisitos (line 4)) (2022.1)\n",
            "Requirement already satisfied: packaging>=20.0 in /usr/local/lib/python3.7/dist-packages (from matplotlib->-r https://raw.githubusercontent.com/HarryVargas96/UdeCataluna/main/data/requisitos (line 5)) (21.3)\n",
            "Requirement already satisfied: cycler>=0.10 in /usr/local/lib/python3.7/dist-packages (from matplotlib->-r https://raw.githubusercontent.com/HarryVargas96/UdeCataluna/main/data/requisitos (line 5)) (0.11.0)\n",
            "Requirement already satisfied: kiwisolver>=1.0.1 in /usr/local/lib/python3.7/dist-packages (from matplotlib->-r https://raw.githubusercontent.com/HarryVargas96/UdeCataluna/main/data/requisitos (line 5)) (1.4.2)\n",
            "Requirement already satisfied: pillow>=6.2.0 in /usr/local/lib/python3.7/dist-packages (from matplotlib->-r https://raw.githubusercontent.com/HarryVargas96/UdeCataluna/main/data/requisitos (line 5)) (7.1.2)\n",
            "Requirement already satisfied: fonttools>=4.22.0 in /usr/local/lib/python3.7/dist-packages (from matplotlib->-r https://raw.githubusercontent.com/HarryVargas96/UdeCataluna/main/data/requisitos (line 5)) (4.33.3)\n",
            "Requirement already satisfied: pyparsing>=2.2.1 in /usr/local/lib/python3.7/dist-packages (from matplotlib->-r https://raw.githubusercontent.com/HarryVargas96/UdeCataluna/main/data/requisitos (line 5)) (3.0.9)\n",
            "Requirement already satisfied: typing-extensions in /usr/local/lib/python3.7/dist-packages (from kiwisolver>=1.0.1->matplotlib->-r https://raw.githubusercontent.com/HarryVargas96/UdeCataluna/main/data/requisitos (line 5)) (4.2.0)\n",
            "Requirement already satisfied: six>=1.5 in /usr/local/lib/python3.7/dist-packages (from python-dateutil>=2.7.3->pandas->-r https://raw.githubusercontent.com/HarryVargas96/UdeCataluna/main/data/requisitos (line 4)) (1.15.0)\n",
            "Requirement already satisfied: branca>=0.3.0 in /usr/local/lib/python3.7/dist-packages (from folium->-r https://raw.githubusercontent.com/HarryVargas96/UdeCataluna/main/data/requisitos (line 2)) (0.5.0)\n",
            "Requirement already satisfied: requests in /usr/local/lib/python3.7/dist-packages (from folium->-r https://raw.githubusercontent.com/HarryVargas96/UdeCataluna/main/data/requisitos (line 2)) (2.23.0)\n",
            "Requirement already satisfied: jinja2>=2.9 in /usr/local/lib/python3.7/dist-packages (from folium->-r https://raw.githubusercontent.com/HarryVargas96/UdeCataluna/main/data/requisitos (line 2)) (2.11.3)\n",
            "Requirement already satisfied: MarkupSafe>=0.23 in /usr/local/lib/python3.7/dist-packages (from jinja2>=2.9->folium->-r https://raw.githubusercontent.com/HarryVargas96/UdeCataluna/main/data/requisitos (line 2)) (2.0.1)\n",
            "Requirement already satisfied: urllib3!=1.25.0,!=1.25.1,<1.26,>=1.21.1 in /usr/local/lib/python3.7/dist-packages (from requests->folium->-r https://raw.githubusercontent.com/HarryVargas96/UdeCataluna/main/data/requisitos (line 2)) (1.24.3)\n",
            "Requirement already satisfied: idna<3,>=2.5 in /usr/local/lib/python3.7/dist-packages (from requests->folium->-r https://raw.githubusercontent.com/HarryVargas96/UdeCataluna/main/data/requisitos (line 2)) (2.10)\n",
            "Requirement already satisfied: certifi>=2017.4.17 in /usr/local/lib/python3.7/dist-packages (from requests->folium->-r https://raw.githubusercontent.com/HarryVargas96/UdeCataluna/main/data/requisitos (line 2)) (2022.5.18.1)\n",
            "Requirement already satisfied: chardet<4,>=3.0.2 in /usr/local/lib/python3.7/dist-packages (from requests->folium->-r https://raw.githubusercontent.com/HarryVargas96/UdeCataluna/main/data/requisitos (line 2)) (3.0.4)\n"
          ]
        }
      ]
    },
    {
      "cell_type": "code",
      "source": [
        "!pip install -U matplotlib"
      ],
      "metadata": {
        "id": "9hTg3uW-QZ8K",
        "colab": {
          "base_uri": "https://localhost:8080/"
        },
        "outputId": "6bc082e7-cbea-468f-95e5-2125aca213c8"
      },
      "execution_count": 79,
      "outputs": [
        {
          "output_type": "stream",
          "name": "stdout",
          "text": [
            "Looking in indexes: https://pypi.org/simple, https://us-python.pkg.dev/colab-wheels/public/simple/\n",
            "Requirement already satisfied: matplotlib in /usr/local/lib/python3.7/dist-packages (3.5.2)\n",
            "Requirement already satisfied: python-dateutil>=2.7 in /usr/local/lib/python3.7/dist-packages (from matplotlib) (2.8.2)\n",
            "Requirement already satisfied: pillow>=6.2.0 in /usr/local/lib/python3.7/dist-packages (from matplotlib) (7.1.2)\n",
            "Requirement already satisfied: pyparsing>=2.2.1 in /usr/local/lib/python3.7/dist-packages (from matplotlib) (3.0.9)\n",
            "Requirement already satisfied: fonttools>=4.22.0 in /usr/local/lib/python3.7/dist-packages (from matplotlib) (4.33.3)\n",
            "Requirement already satisfied: cycler>=0.10 in /usr/local/lib/python3.7/dist-packages (from matplotlib) (0.11.0)\n",
            "Requirement already satisfied: kiwisolver>=1.0.1 in /usr/local/lib/python3.7/dist-packages (from matplotlib) (1.4.2)\n",
            "Requirement already satisfied: numpy>=1.17 in /usr/local/lib/python3.7/dist-packages (from matplotlib) (1.21.6)\n",
            "Requirement already satisfied: packaging>=20.0 in /usr/local/lib/python3.7/dist-packages (from matplotlib) (21.3)\n",
            "Requirement already satisfied: typing-extensions in /usr/local/lib/python3.7/dist-packages (from kiwisolver>=1.0.1->matplotlib) (4.2.0)\n",
            "Requirement already satisfied: six>=1.5 in /usr/local/lib/python3.7/dist-packages (from python-dateutil>=2.7->matplotlib) (1.15.0)\n"
          ]
        }
      ]
    },
    {
      "cell_type": "code",
      "source": [
        "!pip install seaborn --upgrade "
      ],
      "metadata": {
        "id": "gVozwVY5QoVR"
      },
      "execution_count": null,
      "outputs": []
    },
    {
      "cell_type": "markdown",
      "source": [
        "# Importacion de las librerias"
      ],
      "metadata": {
        "id": "St15TLg0Tcb3"
      }
    },
    {
      "cell_type": "code",
      "source": [
        "import numpy as np\n",
        "import pandas as pd\n",
        "import seaborn as sns\n",
        "import matplotlib as mpl\n",
        "import matplotlib.pyplot as plt\n",
        "import sklearn"
      ],
      "metadata": {
        "id": "6NlUq9fsQtAC"
      },
      "execution_count": 130,
      "outputs": []
    },
    {
      "cell_type": "markdown",
      "source": [
        "##Desarrollo del trabajo"
      ],
      "metadata": {
        "id": "pksfcfJnTk8d"
      }
    },
    {
      "cell_type": "markdown",
      "source": [
        "##Cargar el archivo de Ny desde mi GitHub"
      ],
      "metadata": {
        "id": "u0LndfweYJVu"
      }
    },
    {
      "cell_type": "code",
      "source": [
        "ny_airbnb = pd.read_csv('https://raw.githubusercontent.com/Cgomez01/BIGDATA/master/airbnbNY.csv?raw=true', delimiter=',')\n",
        "ny_airbnb.info()"
      ],
      "metadata": {
        "id": "huckrJBkXX3i",
        "colab": {
          "base_uri": "https://localhost:8080/"
        },
        "outputId": "d1ab079b-9309-449e-8b47-60a554edfb91"
      },
      "execution_count": 168,
      "outputs": [
        {
          "output_type": "stream",
          "name": "stdout",
          "text": [
            "<class 'pandas.core.frame.DataFrame'>\n",
            "RangeIndex: 30179 entries, 0 to 30178\n",
            "Data columns (total 76 columns):\n",
            " #   Column                                        Non-Null Count  Dtype  \n",
            "---  ------                                        --------------  -----  \n",
            " 0   id                                            30179 non-null  int64  \n",
            " 1   name                                          30166 non-null  object \n",
            " 2   transit                                       18190 non-null  object \n",
            " 3   host_id                                       30179 non-null  int64  \n",
            " 4   host_since                                    30170 non-null  float64\n",
            " 5   host_response_time                            17082 non-null  object \n",
            " 6   host_response_rate                            17082 non-null  float64\n",
            " 7   host_is_superhost                             30170 non-null  float64\n",
            " 8   host_listings_count                           30170 non-null  float64\n",
            " 9   host_identity_verified                        30170 non-null  float64\n",
            " 10  street                                        30179 non-null  object \n",
            " 11  neighbourhood                                 30170 non-null  object \n",
            " 12  latitude                                      30179 non-null  float64\n",
            " 13  longitude                                     30179 non-null  float64\n",
            " 14  property_type                                 30179 non-null  object \n",
            " 15  room_type                                     30179 non-null  object \n",
            " 16  accommodates                                  30179 non-null  int64  \n",
            " 17  bathrooms                                     30179 non-null  float64\n",
            " 18  bedrooms                                      30179 non-null  int64  \n",
            " 19  beds                                          30179 non-null  int64  \n",
            " 20  bed_type                                      30179 non-null  object \n",
            " 21  amenities                                     30179 non-null  object \n",
            " 22  price                                         30179 non-null  int64  \n",
            " 23  guests_included                               30179 non-null  int64  \n",
            " 24  extra_people                                  30179 non-null  int64  \n",
            " 25  minimum_nights                                30179 non-null  int64  \n",
            " 26  calendar_updated                              30179 non-null  object \n",
            " 27  has_availability                              30179 non-null  int64  \n",
            " 28  availability_30                               30179 non-null  int64  \n",
            " 29  availability_60                               30179 non-null  int64  \n",
            " 30  availability_90                               30179 non-null  int64  \n",
            " 31  availability_365                              30179 non-null  int64  \n",
            " 32  number_of_reviews                             30179 non-null  int64  \n",
            " 33  number_of_reviews_ltm                         30179 non-null  int64  \n",
            " 34  review_scores_rating                          21094 non-null  float64\n",
            " 35  review_scores_accuracy                        21068 non-null  float64\n",
            " 36  review_scores_cleanliness                     21078 non-null  float64\n",
            " 37  review_scores_checkin                         21050 non-null  float64\n",
            " 38  review_scores_communication                   21069 non-null  float64\n",
            " 39  review_scores_location                        21047 non-null  float64\n",
            " 40  review_scores_value                           21049 non-null  float64\n",
            " 41  instant_bookable                              30179 non-null  int64  \n",
            " 42  cancellation_policy                           30179 non-null  object \n",
            " 43  calculated_host_listings_count                30179 non-null  int64  \n",
            " 44  calculated_host_listings_count_entire_homes   30179 non-null  int64  \n",
            " 45  calculated_host_listings_count_private_rooms  30179 non-null  int64  \n",
            " 46  calculated_host_listings_count_shared_rooms   30179 non-null  int64  \n",
            " 47  reviews_per_month                             21919 non-null  float64\n",
            " 48  check_in_24h                                  30179 non-null  int64  \n",
            " 49  air_conditioning                              30179 non-null  int64  \n",
            " 50  high_end_electronics                          30179 non-null  int64  \n",
            " 51  bbq                                           30179 non-null  int64  \n",
            " 52  balcony                                       30179 non-null  int64  \n",
            " 53  nature_and_views                              30179 non-null  int64  \n",
            " 54  bed_linen                                     30179 non-null  int64  \n",
            " 55  breakfast                                     30179 non-null  int64  \n",
            " 56  tv                                            30179 non-null  int64  \n",
            " 57  coffee_machine                                30179 non-null  int64  \n",
            " 58  cooking_basics                                30179 non-null  int64  \n",
            " 59  white_goods                                   30179 non-null  int64  \n",
            " 60  elevator                                      30179 non-null  int64  \n",
            " 61  gym                                           30179 non-null  int64  \n",
            " 62  child_friendly                                30179 non-null  int64  \n",
            " 63  parking                                       30179 non-null  int64  \n",
            " 64  outdoor_space                                 30179 non-null  int64  \n",
            " 65  host_greeting                                 30179 non-null  int64  \n",
            " 66  hot_tub_sauna_or_pool                         30179 non-null  int64  \n",
            " 67  internet                                      30179 non-null  int64  \n",
            " 68  long_term_stays                               30179 non-null  int64  \n",
            " 69  pets_allowed                                  30179 non-null  int64  \n",
            " 70  private_entrance                              30179 non-null  int64  \n",
            " 71  secure                                        30179 non-null  int64  \n",
            " 72  self_check_in                                 30179 non-null  int64  \n",
            " 73  smoking_allowed                               30179 non-null  int64  \n",
            " 74  accessible                                    30179 non-null  int64  \n",
            " 75  event_suitable                                30179 non-null  int64  \n",
            "dtypes: float64(16), int64(49), object(11)\n",
            "memory usage: 17.5+ MB\n"
          ]
        }
      ]
    },
    {
      "cell_type": "code",
      "source": [
        "# Las dimensiones de la data  = (37179 registros, 76 columnas)  \n",
        "ny_airbnb.shape"
      ],
      "metadata": {
        "colab": {
          "base_uri": "https://localhost:8080/"
        },
        "id": "RbKYLAXZYSBJ",
        "outputId": "dce68446-0e72-48bf-dd92-beab6417fd92"
      },
      "execution_count": 132,
      "outputs": [
        {
          "output_type": "execute_result",
          "data": {
            "text/plain": [
              "(30179, 76)"
            ]
          },
          "metadata": {},
          "execution_count": 132
        }
      ]
    },
    {
      "cell_type": "code",
      "source": [
        "## Descripción de las variables ( numerica, caracter float, etc)\n",
        "ny_airbnb.info()"
      ],
      "metadata": {
        "id": "6euoY0yZYicx"
      },
      "execution_count": null,
      "outputs": []
    },
    {
      "cell_type": "markdown",
      "source": [
        "### EJERCICIO N 1  SELECCION DE LAS VARIABLES"
      ],
      "metadata": {
        "id": "GibeYimfoiTr"
      }
    },
    {
      "cell_type": "code",
      "source": [
        "variables = ['price','latitud','longitud','host_is_superhost','neighbourhood','property_type','room_types','bathrooms','bedrooms','number_of_reviews','reviews_per_month','parking']\n",
        "ny_airbnb = pd.read_csv('https://raw.githubusercontent.com/Cgomez01/BIGDATA/master/airbnbNY.csv?raw=true', delimiter=',')\n",
        "ny_airbnb.describe()\n",
        "\n",
        "\n"
      ],
      "metadata": {
        "id": "4sjsuHFFdwaK"
      },
      "execution_count": null,
      "outputs": []
    },
    {
      "cell_type": "markdown",
      "source": [
        ""
      ],
      "metadata": {
        "id": "qhWIVSMJfY2J"
      }
    },
    {
      "cell_type": "markdown",
      "source": [
        "|Nombre de la variable|Descripción|Tipología estadística|Tipología computacional|\n",
        "|---|---|---|---|\n",
        "|price|Precio diario en dólares|Cuantitativa continua|int|\n",
        "|latitude|Latitud basado en World Geodetic System|Cuantitativa continua|float|\n",
        "|longitude|Longitud basado en World Geodetic System|Cuantitativa continua|float|\n",
        "|host_is_superhost |El anfitrion es bueno|Cualitativa|boleana\n",
        "|neighbourhood|Nombre del Barrio|Cuanlitativa ordinal|texto\n",
        "|property_type|Descripcion del tipo|Cuanlitativa nomilal|texto|\n",
        "|room_types|Tipo de apartamento 3 clases|Cualitativa ordinal|texto\n",
        "|bathrooms|Numero de baños|Cuantitativa continua|int\n",
        "|bedrooms|Numero de cuartos|Cuantitativa continua|int\n",
        "|number_of:reviews|Numero de reseñas|Cuantitativa continua|int\n",
        "| reviews_per_month|Numero de reseñas en los ultimos 12 meses|Cuantitativa continua|int||\n",
        "|parking|tiene o no parqueaderos|Cualitativa|boleana\n"
      ],
      "metadata": {
        "id": "adLo3TJEfadh"
      }
    },
    {
      "cell_type": "markdown",
      "source": [
        "### Ejercicio 2 \n",
        "Resumen estadístico para las variables:\n",
        "price\n",
        "bedrooms\n",
        "bathrooms\n",
        "latitude \n",
        "longitude\n",
        "Análisis de sus hallazgos. \n",
        "1 ¿Cuál es el rango de cada variable? \n",
        "2¿La distribución de la variable es simétrica? \n",
        "3 ¿Hay atípicos? ¿Los valores son lógicos en el contexto del negocio?\n"
      ],
      "metadata": {
        "id": "oOyZ06L2opuE"
      }
    },
    {
      "cell_type": "code",
      "source": [
        "ny_airbnb[['price','bedrooms','bathrooms','latitude','longitude']].describe()\n",
        "\n"
      ],
      "metadata": {
        "colab": {
          "base_uri": "https://localhost:8080/",
          "height": 300
        },
        "id": "BHohlhTOpH7r",
        "outputId": "6e18fb56-b086-458c-ab98-cbeff64eeef0"
      },
      "execution_count": 137,
      "outputs": [
        {
          "output_type": "execute_result",
          "data": {
            "text/plain": [
              "              price      bedrooms     bathrooms      latitude     longitude\n",
              "count  30179.000000  30179.000000  30179.000000  30179.000000  30179.000000\n",
              "mean     132.949965      1.265516      1.151595     40.728593    -73.952292\n",
              "std       93.151824      0.614659      0.422225      0.054541      0.044117\n",
              "min        0.000000      1.000000      0.500000     40.499790    -74.244420\n",
              "25%       65.000000      1.000000      1.000000     40.690720    -73.982085\n",
              "50%      100.000000      1.000000      1.000000     40.721450    -73.955280\n",
              "75%      175.000000      1.000000      1.000000     40.762790    -73.936435\n",
              "max      500.000000     11.000000      7.500000     40.913060    -73.716900"
            ],
            "text/html": [
              "\n",
              "  <div id=\"df-ff2e69c6-8e4e-49a5-bbd0-c8da16bea55a\">\n",
              "    <div class=\"colab-df-container\">\n",
              "      <div>\n",
              "<style scoped>\n",
              "    .dataframe tbody tr th:only-of-type {\n",
              "        vertical-align: middle;\n",
              "    }\n",
              "\n",
              "    .dataframe tbody tr th {\n",
              "        vertical-align: top;\n",
              "    }\n",
              "\n",
              "    .dataframe thead th {\n",
              "        text-align: right;\n",
              "    }\n",
              "</style>\n",
              "<table border=\"1\" class=\"dataframe\">\n",
              "  <thead>\n",
              "    <tr style=\"text-align: right;\">\n",
              "      <th></th>\n",
              "      <th>price</th>\n",
              "      <th>bedrooms</th>\n",
              "      <th>bathrooms</th>\n",
              "      <th>latitude</th>\n",
              "      <th>longitude</th>\n",
              "    </tr>\n",
              "  </thead>\n",
              "  <tbody>\n",
              "    <tr>\n",
              "      <th>count</th>\n",
              "      <td>30179.000000</td>\n",
              "      <td>30179.000000</td>\n",
              "      <td>30179.000000</td>\n",
              "      <td>30179.000000</td>\n",
              "      <td>30179.000000</td>\n",
              "    </tr>\n",
              "    <tr>\n",
              "      <th>mean</th>\n",
              "      <td>132.949965</td>\n",
              "      <td>1.265516</td>\n",
              "      <td>1.151595</td>\n",
              "      <td>40.728593</td>\n",
              "      <td>-73.952292</td>\n",
              "    </tr>\n",
              "    <tr>\n",
              "      <th>std</th>\n",
              "      <td>93.151824</td>\n",
              "      <td>0.614659</td>\n",
              "      <td>0.422225</td>\n",
              "      <td>0.054541</td>\n",
              "      <td>0.044117</td>\n",
              "    </tr>\n",
              "    <tr>\n",
              "      <th>min</th>\n",
              "      <td>0.000000</td>\n",
              "      <td>1.000000</td>\n",
              "      <td>0.500000</td>\n",
              "      <td>40.499790</td>\n",
              "      <td>-74.244420</td>\n",
              "    </tr>\n",
              "    <tr>\n",
              "      <th>25%</th>\n",
              "      <td>65.000000</td>\n",
              "      <td>1.000000</td>\n",
              "      <td>1.000000</td>\n",
              "      <td>40.690720</td>\n",
              "      <td>-73.982085</td>\n",
              "    </tr>\n",
              "    <tr>\n",
              "      <th>50%</th>\n",
              "      <td>100.000000</td>\n",
              "      <td>1.000000</td>\n",
              "      <td>1.000000</td>\n",
              "      <td>40.721450</td>\n",
              "      <td>-73.955280</td>\n",
              "    </tr>\n",
              "    <tr>\n",
              "      <th>75%</th>\n",
              "      <td>175.000000</td>\n",
              "      <td>1.000000</td>\n",
              "      <td>1.000000</td>\n",
              "      <td>40.762790</td>\n",
              "      <td>-73.936435</td>\n",
              "    </tr>\n",
              "    <tr>\n",
              "      <th>max</th>\n",
              "      <td>500.000000</td>\n",
              "      <td>11.000000</td>\n",
              "      <td>7.500000</td>\n",
              "      <td>40.913060</td>\n",
              "      <td>-73.716900</td>\n",
              "    </tr>\n",
              "  </tbody>\n",
              "</table>\n",
              "</div>\n",
              "      <button class=\"colab-df-convert\" onclick=\"convertToInteractive('df-ff2e69c6-8e4e-49a5-bbd0-c8da16bea55a')\"\n",
              "              title=\"Convert this dataframe to an interactive table.\"\n",
              "              style=\"display:none;\">\n",
              "        \n",
              "  <svg xmlns=\"http://www.w3.org/2000/svg\" height=\"24px\"viewBox=\"0 0 24 24\"\n",
              "       width=\"24px\">\n",
              "    <path d=\"M0 0h24v24H0V0z\" fill=\"none\"/>\n",
              "    <path d=\"M18.56 5.44l.94 2.06.94-2.06 2.06-.94-2.06-.94-.94-2.06-.94 2.06-2.06.94zm-11 1L8.5 8.5l.94-2.06 2.06-.94-2.06-.94L8.5 2.5l-.94 2.06-2.06.94zm10 10l.94 2.06.94-2.06 2.06-.94-2.06-.94-.94-2.06-.94 2.06-2.06.94z\"/><path d=\"M17.41 7.96l-1.37-1.37c-.4-.4-.92-.59-1.43-.59-.52 0-1.04.2-1.43.59L10.3 9.45l-7.72 7.72c-.78.78-.78 2.05 0 2.83L4 21.41c.39.39.9.59 1.41.59.51 0 1.02-.2 1.41-.59l7.78-7.78 2.81-2.81c.8-.78.8-2.07 0-2.86zM5.41 20L4 18.59l7.72-7.72 1.47 1.35L5.41 20z\"/>\n",
              "  </svg>\n",
              "      </button>\n",
              "      \n",
              "  <style>\n",
              "    .colab-df-container {\n",
              "      display:flex;\n",
              "      flex-wrap:wrap;\n",
              "      gap: 12px;\n",
              "    }\n",
              "\n",
              "    .colab-df-convert {\n",
              "      background-color: #E8F0FE;\n",
              "      border: none;\n",
              "      border-radius: 50%;\n",
              "      cursor: pointer;\n",
              "      display: none;\n",
              "      fill: #1967D2;\n",
              "      height: 32px;\n",
              "      padding: 0 0 0 0;\n",
              "      width: 32px;\n",
              "    }\n",
              "\n",
              "    .colab-df-convert:hover {\n",
              "      background-color: #E2EBFA;\n",
              "      box-shadow: 0px 1px 2px rgba(60, 64, 67, 0.3), 0px 1px 3px 1px rgba(60, 64, 67, 0.15);\n",
              "      fill: #174EA6;\n",
              "    }\n",
              "\n",
              "    [theme=dark] .colab-df-convert {\n",
              "      background-color: #3B4455;\n",
              "      fill: #D2E3FC;\n",
              "    }\n",
              "\n",
              "    [theme=dark] .colab-df-convert:hover {\n",
              "      background-color: #434B5C;\n",
              "      box-shadow: 0px 1px 3px 1px rgba(0, 0, 0, 0.15);\n",
              "      filter: drop-shadow(0px 1px 2px rgba(0, 0, 0, 0.3));\n",
              "      fill: #FFFFFF;\n",
              "    }\n",
              "  </style>\n",
              "\n",
              "      <script>\n",
              "        const buttonEl =\n",
              "          document.querySelector('#df-ff2e69c6-8e4e-49a5-bbd0-c8da16bea55a button.colab-df-convert');\n",
              "        buttonEl.style.display =\n",
              "          google.colab.kernel.accessAllowed ? 'block' : 'none';\n",
              "\n",
              "        async function convertToInteractive(key) {\n",
              "          const element = document.querySelector('#df-ff2e69c6-8e4e-49a5-bbd0-c8da16bea55a');\n",
              "          const dataTable =\n",
              "            await google.colab.kernel.invokeFunction('convertToInteractive',\n",
              "                                                     [key], {});\n",
              "          if (!dataTable) return;\n",
              "\n",
              "          const docLinkHtml = 'Like what you see? Visit the ' +\n",
              "            '<a target=\"_blank\" href=https://colab.research.google.com/notebooks/data_table.ipynb>data table notebook</a>'\n",
              "            + ' to learn more about interactive tables.';\n",
              "          element.innerHTML = '';\n",
              "          dataTable['output_type'] = 'display_data';\n",
              "          await google.colab.output.renderOutput(dataTable, element);\n",
              "          const docLink = document.createElement('div');\n",
              "          docLink.innerHTML = docLinkHtml;\n",
              "          element.appendChild(docLink);\n",
              "        }\n",
              "      </script>\n",
              "    </div>\n",
              "  </div>\n",
              "  "
            ]
          },
          "metadata": {},
          "execution_count": 137
        }
      ]
    },
    {
      "cell_type": "code",
      "source": [
        "ny_airbnb_5 = ny_airbnb[['price','bedrooms','bathrooms','latitude','longitude']]\n",
        "ny_airbnb_5.describe()"
      ],
      "metadata": {
        "colab": {
          "base_uri": "https://localhost:8080/",
          "height": 300
        },
        "id": "44LqjvSH7NgF",
        "outputId": "11f827af-8e55-4568-b19e-f0c97d83a0a0"
      },
      "execution_count": 141,
      "outputs": [
        {
          "output_type": "execute_result",
          "data": {
            "text/plain": [
              "              price      bedrooms     bathrooms      latitude     longitude\n",
              "count  30179.000000  30179.000000  30179.000000  30179.000000  30179.000000\n",
              "mean     132.949965      1.265516      1.151595     40.728593    -73.952292\n",
              "std       93.151824      0.614659      0.422225      0.054541      0.044117\n",
              "min        0.000000      1.000000      0.500000     40.499790    -74.244420\n",
              "25%       65.000000      1.000000      1.000000     40.690720    -73.982085\n",
              "50%      100.000000      1.000000      1.000000     40.721450    -73.955280\n",
              "75%      175.000000      1.000000      1.000000     40.762790    -73.936435\n",
              "max      500.000000     11.000000      7.500000     40.913060    -73.716900"
            ],
            "text/html": [
              "\n",
              "  <div id=\"df-29276f0a-7b2d-47fc-bcf1-8a5de8df89ba\">\n",
              "    <div class=\"colab-df-container\">\n",
              "      <div>\n",
              "<style scoped>\n",
              "    .dataframe tbody tr th:only-of-type {\n",
              "        vertical-align: middle;\n",
              "    }\n",
              "\n",
              "    .dataframe tbody tr th {\n",
              "        vertical-align: top;\n",
              "    }\n",
              "\n",
              "    .dataframe thead th {\n",
              "        text-align: right;\n",
              "    }\n",
              "</style>\n",
              "<table border=\"1\" class=\"dataframe\">\n",
              "  <thead>\n",
              "    <tr style=\"text-align: right;\">\n",
              "      <th></th>\n",
              "      <th>price</th>\n",
              "      <th>bedrooms</th>\n",
              "      <th>bathrooms</th>\n",
              "      <th>latitude</th>\n",
              "      <th>longitude</th>\n",
              "    </tr>\n",
              "  </thead>\n",
              "  <tbody>\n",
              "    <tr>\n",
              "      <th>count</th>\n",
              "      <td>30179.000000</td>\n",
              "      <td>30179.000000</td>\n",
              "      <td>30179.000000</td>\n",
              "      <td>30179.000000</td>\n",
              "      <td>30179.000000</td>\n",
              "    </tr>\n",
              "    <tr>\n",
              "      <th>mean</th>\n",
              "      <td>132.949965</td>\n",
              "      <td>1.265516</td>\n",
              "      <td>1.151595</td>\n",
              "      <td>40.728593</td>\n",
              "      <td>-73.952292</td>\n",
              "    </tr>\n",
              "    <tr>\n",
              "      <th>std</th>\n",
              "      <td>93.151824</td>\n",
              "      <td>0.614659</td>\n",
              "      <td>0.422225</td>\n",
              "      <td>0.054541</td>\n",
              "      <td>0.044117</td>\n",
              "    </tr>\n",
              "    <tr>\n",
              "      <th>min</th>\n",
              "      <td>0.000000</td>\n",
              "      <td>1.000000</td>\n",
              "      <td>0.500000</td>\n",
              "      <td>40.499790</td>\n",
              "      <td>-74.244420</td>\n",
              "    </tr>\n",
              "    <tr>\n",
              "      <th>25%</th>\n",
              "      <td>65.000000</td>\n",
              "      <td>1.000000</td>\n",
              "      <td>1.000000</td>\n",
              "      <td>40.690720</td>\n",
              "      <td>-73.982085</td>\n",
              "    </tr>\n",
              "    <tr>\n",
              "      <th>50%</th>\n",
              "      <td>100.000000</td>\n",
              "      <td>1.000000</td>\n",
              "      <td>1.000000</td>\n",
              "      <td>40.721450</td>\n",
              "      <td>-73.955280</td>\n",
              "    </tr>\n",
              "    <tr>\n",
              "      <th>75%</th>\n",
              "      <td>175.000000</td>\n",
              "      <td>1.000000</td>\n",
              "      <td>1.000000</td>\n",
              "      <td>40.762790</td>\n",
              "      <td>-73.936435</td>\n",
              "    </tr>\n",
              "    <tr>\n",
              "      <th>max</th>\n",
              "      <td>500.000000</td>\n",
              "      <td>11.000000</td>\n",
              "      <td>7.500000</td>\n",
              "      <td>40.913060</td>\n",
              "      <td>-73.716900</td>\n",
              "    </tr>\n",
              "  </tbody>\n",
              "</table>\n",
              "</div>\n",
              "      <button class=\"colab-df-convert\" onclick=\"convertToInteractive('df-29276f0a-7b2d-47fc-bcf1-8a5de8df89ba')\"\n",
              "              title=\"Convert this dataframe to an interactive table.\"\n",
              "              style=\"display:none;\">\n",
              "        \n",
              "  <svg xmlns=\"http://www.w3.org/2000/svg\" height=\"24px\"viewBox=\"0 0 24 24\"\n",
              "       width=\"24px\">\n",
              "    <path d=\"M0 0h24v24H0V0z\" fill=\"none\"/>\n",
              "    <path d=\"M18.56 5.44l.94 2.06.94-2.06 2.06-.94-2.06-.94-.94-2.06-.94 2.06-2.06.94zm-11 1L8.5 8.5l.94-2.06 2.06-.94-2.06-.94L8.5 2.5l-.94 2.06-2.06.94zm10 10l.94 2.06.94-2.06 2.06-.94-2.06-.94-.94-2.06-.94 2.06-2.06.94z\"/><path d=\"M17.41 7.96l-1.37-1.37c-.4-.4-.92-.59-1.43-.59-.52 0-1.04.2-1.43.59L10.3 9.45l-7.72 7.72c-.78.78-.78 2.05 0 2.83L4 21.41c.39.39.9.59 1.41.59.51 0 1.02-.2 1.41-.59l7.78-7.78 2.81-2.81c.8-.78.8-2.07 0-2.86zM5.41 20L4 18.59l7.72-7.72 1.47 1.35L5.41 20z\"/>\n",
              "  </svg>\n",
              "      </button>\n",
              "      \n",
              "  <style>\n",
              "    .colab-df-container {\n",
              "      display:flex;\n",
              "      flex-wrap:wrap;\n",
              "      gap: 12px;\n",
              "    }\n",
              "\n",
              "    .colab-df-convert {\n",
              "      background-color: #E8F0FE;\n",
              "      border: none;\n",
              "      border-radius: 50%;\n",
              "      cursor: pointer;\n",
              "      display: none;\n",
              "      fill: #1967D2;\n",
              "      height: 32px;\n",
              "      padding: 0 0 0 0;\n",
              "      width: 32px;\n",
              "    }\n",
              "\n",
              "    .colab-df-convert:hover {\n",
              "      background-color: #E2EBFA;\n",
              "      box-shadow: 0px 1px 2px rgba(60, 64, 67, 0.3), 0px 1px 3px 1px rgba(60, 64, 67, 0.15);\n",
              "      fill: #174EA6;\n",
              "    }\n",
              "\n",
              "    [theme=dark] .colab-df-convert {\n",
              "      background-color: #3B4455;\n",
              "      fill: #D2E3FC;\n",
              "    }\n",
              "\n",
              "    [theme=dark] .colab-df-convert:hover {\n",
              "      background-color: #434B5C;\n",
              "      box-shadow: 0px 1px 3px 1px rgba(0, 0, 0, 0.15);\n",
              "      filter: drop-shadow(0px 1px 2px rgba(0, 0, 0, 0.3));\n",
              "      fill: #FFFFFF;\n",
              "    }\n",
              "  </style>\n",
              "\n",
              "      <script>\n",
              "        const buttonEl =\n",
              "          document.querySelector('#df-29276f0a-7b2d-47fc-bcf1-8a5de8df89ba button.colab-df-convert');\n",
              "        buttonEl.style.display =\n",
              "          google.colab.kernel.accessAllowed ? 'block' : 'none';\n",
              "\n",
              "        async function convertToInteractive(key) {\n",
              "          const element = document.querySelector('#df-29276f0a-7b2d-47fc-bcf1-8a5de8df89ba');\n",
              "          const dataTable =\n",
              "            await google.colab.kernel.invokeFunction('convertToInteractive',\n",
              "                                                     [key], {});\n",
              "          if (!dataTable) return;\n",
              "\n",
              "          const docLinkHtml = 'Like what you see? Visit the ' +\n",
              "            '<a target=\"_blank\" href=https://colab.research.google.com/notebooks/data_table.ipynb>data table notebook</a>'\n",
              "            + ' to learn more about interactive tables.';\n",
              "          element.innerHTML = '';\n",
              "          dataTable['output_type'] = 'display_data';\n",
              "          await google.colab.output.renderOutput(dataTable, element);\n",
              "          const docLink = document.createElement('div');\n",
              "          docLink.innerHTML = docLinkHtml;\n",
              "          element.appendChild(docLink);\n",
              "        }\n",
              "      </script>\n",
              "    </div>\n",
              "  </div>\n",
              "  "
            ]
          },
          "metadata": {},
          "execution_count": 141
        }
      ]
    },
    {
      "cell_type": "code",
      "source": [
        ""
      ],
      "metadata": {
        "id": "BlsDXgs_7TSY"
      },
      "execution_count": null,
      "outputs": []
    },
    {
      "cell_type": "code",
      "source": [
        "plt.hist(ny_airbnb_5['price'])\n",
        "plt.xlabel('Precio ')\n",
        "plt.ylabel('Cantidad disponibles')\n",
        "plt.show"
      ],
      "metadata": {
        "colab": {
          "base_uri": "https://localhost:8080/",
          "height": 296
        },
        "id": "tjFfOZ5e8lXt",
        "outputId": "4c84dfd8-f304-48eb-8c9b-07778328c711"
      },
      "execution_count": 148,
      "outputs": [
        {
          "output_type": "execute_result",
          "data": {
            "text/plain": [
              "<function matplotlib.pyplot.show>"
            ]
          },
          "metadata": {},
          "execution_count": 148
        },
        {
          "output_type": "display_data",
          "data": {
            "text/plain": [
              "<Figure size 432x288 with 1 Axes>"
            ],
            "image/png": "[encoded data removed]"
          },
          "metadata": {
            "needs_background": "light"
          }
        }
      ]
    },
    {
      "cell_type": "markdown",
      "source": [
        "Se puede evidenciar que hay mas disponibilidad en precios entre 100 y 200 dolares. con distribucion asimetrica a la derecha"
      ],
      "metadata": {
        "id": "2q5-JY-A-vfi"
      }
    },
    {
      "cell_type": "code",
      "source": [
        "plt.hist(ny_airbnb_5['bedrooms'])\n",
        "plt.xlabel('numero de cuartos ')\n",
        "plt.ylabel('cantidad disponibles')\n",
        "plt.show"
      ],
      "metadata": {
        "colab": {
          "base_uri": "https://localhost:8080/",
          "height": 296
        },
        "id": "KpZcpSUM9gHm",
        "outputId": "021bffae-bc7f-4edd-fb02-7984c0de718c"
      },
      "execution_count": 149,
      "outputs": [
        {
          "output_type": "execute_result",
          "data": {
            "text/plain": [
              "<function matplotlib.pyplot.show>"
            ]
          },
          "metadata": {},
          "execution_count": 149
        },
        {
          "output_type": "display_data",
          "data": {
            "text/plain": [
              "<Figure size 432x288 with 1 Axes>"
            ],
            "image/png": "[encoded data removed]"
          },
          "metadata": {
            "needs_background": "light"
          }
        }
      ]
    },
    {
      "cell_type": "markdown",
      "source": [
        "Se puede evidenciar que hay mas disponibilidad en apartamentos con 2 cuartos con distribucion asimetrica a la derecha."
      ],
      "metadata": {
        "id": "_ISWxYFt_Tod"
      }
    },
    {
      "cell_type": "code",
      "source": [
        "plt.hist(ny_airbnb_5['bathrooms'])\n",
        "plt.xlabel('numero de cuartos')\n",
        "plt.ylabel('cantidad disponibles')\n",
        "plt.show"
      ],
      "metadata": {
        "colab": {
          "base_uri": "https://localhost:8080/",
          "height": 296
        },
        "id": "Z-YvYPRn-VOm",
        "outputId": "4aa6fba9-33d6-4a8f-bc50-d04fe11dc0c4"
      },
      "execution_count": 151,
      "outputs": [
        {
          "output_type": "execute_result",
          "data": {
            "text/plain": [
              "<function matplotlib.pyplot.show>"
            ]
          },
          "metadata": {},
          "execution_count": 151
        },
        {
          "output_type": "display_data",
          "data": {
            "text/plain": [
              "<Figure size 432x288 with 1 Axes>"
            ],
            "image/png": "[encoded data removed]"
          },
          "metadata": {
            "needs_background": "light"
          }
        }
      ]
    },
    {
      "cell_type": "markdown",
      "source": [
        "De igual manera puede evidenciar que hay mas disponibilidad en apartamentos con  1 baño  con distribucion asimetrica a la derecha."
      ],
      "metadata": {
        "id": "h5neziIUBCbJ"
      }
    },
    {
      "cell_type": "code",
      "source": [
        "sns.set_theme('notebook')"
      ],
      "metadata": {
        "id": "K4W41tzAAnUn"
      },
      "execution_count": 156,
      "outputs": []
    },
    {
      "cell_type": "code",
      "source": [
        "sns.histplot(data = ny_airbnb_5,\n",
        "             x = 'price',\n",
        "             bins = 10,\n",
        "             kde = True,\n",
        "             )\n"
      ],
      "metadata": {
        "colab": {
          "base_uri": "https://localhost:8080/",
          "height": 302
        },
        "id": "zD3ux_9n_0YD",
        "outputId": "c2b0a25c-867f-4365-b172-09d76e60fd84"
      },
      "execution_count": 159,
      "outputs": [
        {
          "output_type": "execute_result",
          "data": {
            "text/plain": [
              "<AxesSubplot:xlabel='price', ylabel='Count'>"
            ]
          },
          "metadata": {},
          "execution_count": 159
        },
        {
          "output_type": "display_data",
          "data": {
            "text/plain": [
              "<Figure size 432x288 with 1 Axes>"
            ],
            "image/png": "[encoded data removed]"
          },
          "metadata": {}
        }
      ]
    },
    {
      "cell_type": "markdown",
      "source": [
        "Grafica de precios que nos indica una dustribucion asimetrica positiva en cuanto a cantidad de predios con el valor del precio, hay mayor cantidad de predios disponibles con un valor bajo de predios"
      ],
      "metadata": {
        "id": "7ai2Q2dQ_dyK"
      }
    },
    {
      "cell_type": "code",
      "source": [
        "sns.histplot(data = ny_airbnb_5,\n",
        "             x = 'price',\n",
        "             bins = 10,\n",
        "             kde = True,\n",
        "            hue = 'bedrooms')\n"
      ],
      "metadata": {
        "colab": {
          "base_uri": "https://localhost:8080/",
          "height": 302
        },
        "id": "npAgyoc9Bfvx",
        "outputId": "d64dd879-e358-4ecf-efd2-67c7cf3be374"
      },
      "execution_count": 167,
      "outputs": [
        {
          "output_type": "execute_result",
          "data": {
            "text/plain": [
              "<AxesSubplot:xlabel='price', ylabel='Count'>"
            ]
          },
          "metadata": {},
          "execution_count": 167
        },
        {
          "output_type": "display_data",
          "data": {
            "text/plain": [
              "<Figure size 432x288 with 1 Axes>"
            ],
            "image/png": "[encoded data removed]"
          },
          "metadata": {}
        }
      ]
    },
    {
      "cell_type": "markdown",
      "source": [
        "Esta es una grafica comparativa de cuartos vs precios que nos recalca aun mas lo descrito"
      ],
      "metadata": {
        "id": "BilpwaPbCPYp"
      }
    },
    {
      "cell_type": "code",
      "source": [
        "sns.boxplot(data = ny_airbnb_5,\n",
        "             x = 'price',\n",
        "             )"
      ],
      "metadata": {
        "colab": {
          "base_uri": "https://localhost:8080/",
          "height": 302
        },
        "id": "cowgRVIwColO",
        "outputId": "44ce80de-313f-469b-91f2-fa66e6e99383"
      },
      "execution_count": 166,
      "outputs": [
        {
          "output_type": "execute_result",
          "data": {
            "text/plain": [
              "<AxesSubplot:xlabel='price'>"
            ]
          },
          "metadata": {},
          "execution_count": 166
        },
        {
          "output_type": "display_data",
          "data": {
            "text/plain": [
              "<Figure size 432x288 with 1 Axes>"
            ],
            "image/png": "[encoded data removed]"
          },
          "metadata": {}
        }
      ]
    },
    {
      "cell_type": "markdown",
      "source": [
        "Usando una grafica de bigotel la distribucion de la variable precio es asimetrica"
      ],
      "metadata": {
        "id": "ru5WimQhDE5r"
      }
    },
    {
      "cell_type": "code",
      "source": [
        "## CANTIDAD DE BARRIOS \n",
        "ny_airbnb['neighbourhood'].nunique()"
      ],
      "metadata": {
        "colab": {
          "base_uri": "https://localhost:8080/"
        },
        "id": "4BeJBAAyFOIB",
        "outputId": "cc2896fd-d4b6-4b19-9a1c-f6c262eb3da9"
      },
      "execution_count": 288,
      "outputs": [
        {
          "output_type": "execute_result",
          "data": {
            "text/plain": [
              "186"
            ]
          },
          "metadata": {},
          "execution_count": 288
        }
      ]
    },
    {
      "cell_type": "markdown",
      "source": [
        "en total hay 186 barrios"
      ],
      "metadata": {
        "id": "TBS-2QduoMRN"
      }
    },
    {
      "cell_type": "code",
      "source": [
        "## arreglo de DE BARRIOS \n",
        "ny_airbnb['neighbourhood'].unique()\n"
      ],
      "metadata": {
        "id": "2s9AuIpEa14y"
      },
      "execution_count": null,
      "outputs": []
    },
    {
      "cell_type": "code",
      "source": [
        "## CANTIDAD DE BARRIOS  y su frecuencia\n",
        "ny_airbnb['neighbourhood'].value_counts()"
      ],
      "metadata": {
        "colab": {
          "base_uri": "https://localhost:8080/"
        },
        "id": "5-vzmQCHobfg",
        "outputId": "77cd0f1b-a212-4e32-87fe-9161e09ef6ee"
      },
      "execution_count": 290,
      "outputs": [
        {
          "output_type": "execute_result",
          "data": {
            "text/plain": [
              "Brooklyn                7024\n",
              "Manhattan               6022\n",
              "Queens                  1695\n",
              "Williamsburg            1238\n",
              "Bedford-Stuyvesant      1134\n",
              "                        ... \n",
              "Tottenville                1\n",
              "Spuyten Duyvil             1\n",
              "South Street Seaport       1\n",
              "Castleton Corners          1\n",
              "Meiers Corners             1\n",
              "Name: neighbourhood, Length: 186, dtype: int64"
            ]
          },
          "metadata": {},
          "execution_count": 290
        }
      ]
    },
    {
      "cell_type": "code",
      "source": [
        "ny_airbnb['neighbourhood'].value_counts().head(10).plot(kind= 'bar',title ='Top 10 de barrios en airbnb en NY', y='')"
      ],
      "metadata": {
        "colab": {
          "base_uri": "https://localhost:8080/",
          "height": 400
        },
        "id": "QxMbsABWotvK",
        "outputId": "7aea2121-0ff0-4ebf-982b-c6a0695afc73"
      },
      "execution_count": 310,
      "outputs": [
        {
          "output_type": "execute_result",
          "data": {
            "text/plain": [
              "<AxesSubplot:title={'center':'Top 10 de barrios en airbnb en NY'}>"
            ]
          },
          "metadata": {},
          "execution_count": 310
        },
        {
          "output_type": "display_data",
          "data": {
            "text/plain": [
              "<Figure size 432x288 with 1 Axes>"
            ],
            "image/png": "[encoded data removed]"
          },
          "metadata": {}
        }
      ]
    },
    {
      "cell_type": "code",
      "source": [
        "ny_airbnb.shape"
      ],
      "metadata": {
        "colab": {
          "base_uri": "https://localhost:8080/"
        },
        "id": "0KBpVsjOteVx",
        "outputId": "8d7864f6-c780-4101-a8d8-acf845ca47e5"
      },
      "execution_count": 315,
      "outputs": [
        {
          "output_type": "execute_result",
          "data": {
            "text/plain": [
              "(30179, 76)"
            ]
          },
          "metadata": {},
          "execution_count": 315
        }
      ]
    },
    {
      "cell_type": "code",
      "source": [
        "ny_airbnb['host_is_superhost'].value_counts() "
      ],
      "metadata": {
        "id": "ht6KGCK9tMjG"
      },
      "execution_count": null,
      "outputs": []
    },
    {
      "cell_type": "code",
      "source": [
        "ny_airbnb['host_is_superhost'].value_counts()  / 30179"
      ],
      "metadata": {
        "colab": {
          "base_uri": "https://localhost:8080/"
        },
        "id": "y3aoJ9khtxfO",
        "outputId": "f54d111f-eeec-4859-a223-88a731f36a4f"
      },
      "execution_count": 316,
      "outputs": [
        {
          "output_type": "execute_result",
          "data": {
            "text/plain": [
              "0.0    0.916167\n",
              "1.0    0.083535\n",
              "Name: host_is_superhost, dtype: float64"
            ]
          },
          "metadata": {},
          "execution_count": 316
        }
      ]
    },
    {
      "cell_type": "code",
      "source": [
        "#host_is_superhost    \n",
        "(ny_airbnb['host_is_superhost'].value_counts() * 100 ).plot(kind= 'bar',title ='Porcentaje de hospedajes que estan en el top ')"
      ],
      "metadata": {
        "colab": {
          "base_uri": "https://localhost:8080/",
          "height": 308
        },
        "id": "ZxPDqkcnrk1K",
        "outputId": "431ba92c-8b1a-42a7-98e1-b126b67c0a0a"
      },
      "execution_count": 317,
      "outputs": [
        {
          "output_type": "execute_result",
          "data": {
            "text/plain": [
              "<AxesSubplot:title={'center':'Porcentaje de hospedajes que estan en el top '}>"
            ]
          },
          "metadata": {},
          "execution_count": 317
        },
        {
          "output_type": "display_data",
          "data": {
            "text/plain": [
              "<Figure size 432x288 with 1 Axes>"
            ],
            "image/png": "[encoded data removed]"
          },
          "metadata": {}
        }
      ]
    },
    {
      "cell_type": "code",
      "source": [
        "# pasarlo a data frame\n",
        "superhost = (ny_airbnb['host_is_superhost'].value_counts()*100/30179).to_frame()\n",
        "superhost.columns = ['Super']\n",
        "superhost\n"
      ],
      "metadata": {
        "colab": {
          "base_uri": "https://localhost:8080/",
          "height": 112
        },
        "id": "ay-8dMPuuWAG",
        "outputId": "34dc3a14-75f1-4994-af0d-86433da60e8c"
      },
      "execution_count": 329,
      "outputs": [
        {
          "output_type": "execute_result",
          "data": {
            "text/plain": [
              "         Super\n",
              "0.0  91.616687\n",
              "1.0   8.353491"
            ],
            "text/html": [
              "\n",
              "  <div id=\"df-922dd564-c23d-4c2c-8fcf-07d4e78627d7\">\n",
              "    <div class=\"colab-df-container\">\n",
              "      <div>\n",
              "<style scoped>\n",
              "    .dataframe tbody tr th:only-of-type {\n",
              "        vertical-align: middle;\n",
              "    }\n",
              "\n",
              "    .dataframe tbody tr th {\n",
              "        vertical-align: top;\n",
              "    }\n",
              "\n",
              "    .dataframe thead th {\n",
              "        text-align: right;\n",
              "    }\n",
              "</style>\n",
              "<table border=\"1\" class=\"dataframe\">\n",
              "  <thead>\n",
              "    <tr style=\"text-align: right;\">\n",
              "      <th></th>\n",
              "      <th>Super</th>\n",
              "    </tr>\n",
              "  </thead>\n",
              "  <tbody>\n",
              "    <tr>\n",
              "      <th>0.0</th>\n",
              "      <td>91.616687</td>\n",
              "    </tr>\n",
              "    <tr>\n",
              "      <th>1.0</th>\n",
              "      <td>8.353491</td>\n",
              "    </tr>\n",
              "  </tbody>\n",
              "</table>\n",
              "</div>\n",
              "      <button class=\"colab-df-convert\" onclick=\"convertToInteractive('df-922dd564-c23d-4c2c-8fcf-07d4e78627d7')\"\n",
              "              title=\"Convert this dataframe to an interactive table.\"\n",
              "              style=\"display:none;\">\n",
              "        \n",
              "  <svg xmlns=\"http://www.w3.org/2000/svg\" height=\"24px\"viewBox=\"0 0 24 24\"\n",
              "       width=\"24px\">\n",
              "    <path d=\"M0 0h24v24H0V0z\" fill=\"none\"/>\n",
              "    <path d=\"M18.56 5.44l.94 2.06.94-2.06 2.06-.94-2.06-.94-.94-2.06-.94 2.06-2.06.94zm-11 1L8.5 8.5l.94-2.06 2.06-.94-2.06-.94L8.5 2.5l-.94 2.06-2.06.94zm10 10l.94 2.06.94-2.06 2.06-.94-2.06-.94-.94-2.06-.94 2.06-2.06.94z\"/><path d=\"M17.41 7.96l-1.37-1.37c-.4-.4-.92-.59-1.43-.59-.52 0-1.04.2-1.43.59L10.3 9.45l-7.72 7.72c-.78.78-.78 2.05 0 2.83L4 21.41c.39.39.9.59 1.41.59.51 0 1.02-.2 1.41-.59l7.78-7.78 2.81-2.81c.8-.78.8-2.07 0-2.86zM5.41 20L4 18.59l7.72-7.72 1.47 1.35L5.41 20z\"/>\n",
              "  </svg>\n",
              "      </button>\n",
              "      \n",
              "  <style>\n",
              "    .colab-df-container {\n",
              "      display:flex;\n",
              "      flex-wrap:wrap;\n",
              "      gap: 12px;\n",
              "    }\n",
              "\n",
              "    .colab-df-convert {\n",
              "      background-color: #E8F0FE;\n",
              "      border: none;\n",
              "      border-radius: 50%;\n",
              "      cursor: pointer;\n",
              "      display: none;\n",
              "      fill: #1967D2;\n",
              "      height: 32px;\n",
              "      padding: 0 0 0 0;\n",
              "      width: 32px;\n",
              "    }\n",
              "\n",
              "    .colab-df-convert:hover {\n",
              "      background-color: #E2EBFA;\n",
              "      box-shadow: 0px 1px 2px rgba(60, 64, 67, 0.3), 0px 1px 3px 1px rgba(60, 64, 67, 0.15);\n",
              "      fill: #174EA6;\n",
              "    }\n",
              "\n",
              "    [theme=dark] .colab-df-convert {\n",
              "      background-color: #3B4455;\n",
              "      fill: #D2E3FC;\n",
              "    }\n",
              "\n",
              "    [theme=dark] .colab-df-convert:hover {\n",
              "      background-color: #434B5C;\n",
              "      box-shadow: 0px 1px 3px 1px rgba(0, 0, 0, 0.15);\n",
              "      filter: drop-shadow(0px 1px 2px rgba(0, 0, 0, 0.3));\n",
              "      fill: #FFFFFF;\n",
              "    }\n",
              "  </style>\n",
              "\n",
              "      <script>\n",
              "        const buttonEl =\n",
              "          document.querySelector('#df-922dd564-c23d-4c2c-8fcf-07d4e78627d7 button.colab-df-convert');\n",
              "        buttonEl.style.display =\n",
              "          google.colab.kernel.accessAllowed ? 'block' : 'none';\n",
              "\n",
              "        async function convertToInteractive(key) {\n",
              "          const element = document.querySelector('#df-922dd564-c23d-4c2c-8fcf-07d4e78627d7');\n",
              "          const dataTable =\n",
              "            await google.colab.kernel.invokeFunction('convertToInteractive',\n",
              "                                                     [key], {});\n",
              "          if (!dataTable) return;\n",
              "\n",
              "          const docLinkHtml = 'Like what you see? Visit the ' +\n",
              "            '<a target=\"_blank\" href=https://colab.research.google.com/notebooks/data_table.ipynb>data table notebook</a>'\n",
              "            + ' to learn more about interactive tables.';\n",
              "          element.innerHTML = '';\n",
              "          dataTable['output_type'] = 'display_data';\n",
              "          await google.colab.output.renderOutput(dataTable, element);\n",
              "          const docLink = document.createElement('div');\n",
              "          docLink.innerHTML = docLinkHtml;\n",
              "          element.appendChild(docLink);\n",
              "        }\n",
              "      </script>\n",
              "    </div>\n",
              "  </div>\n",
              "  "
            ]
          },
          "metadata": {},
          "execution_count": 329
        }
      ]
    },
    {
      "cell_type": "markdown",
      "source": [
        "analisis con las variables property_type\n",
        "\n"
      ],
      "metadata": {
        "id": "wL6QBCJLwC_e"
      }
    },
    {
      "cell_type": "code",
      "source": [
        "# numero de propiedaddes en el data set\n",
        "ny_airbnb['property_type'].value_counts() "
      ],
      "metadata": {
        "id": "69nQSDk-uBL9"
      },
      "execution_count": null,
      "outputs": []
    },
    {
      "cell_type": "code",
      "source": [
        "# procentaje de distribucion \n",
        "ny_airbnb['property_type'].value_counts() *100 / 30179"
      ],
      "metadata": {
        "colab": {
          "base_uri": "https://localhost:8080/"
        },
        "id": "6WUc8RS9wZpa",
        "outputId": "0c1f7f89-5a96-4338-f530-ff1edb6cb684"
      },
      "execution_count": 327,
      "outputs": [
        {
          "output_type": "execute_result",
          "data": {
            "text/plain": [
              "Apartment                 81.308194\n",
              "House                      7.041320\n",
              "Condominium                3.253918\n",
              "Townhouse                  2.558070\n",
              "Loft                       2.452036\n",
              "Serviced apartment         0.960933\n",
              "Hotel                      0.636204\n",
              "Guest suite                0.453958\n",
              "Boutique hotel             0.344610\n",
              "Other                      0.215382\n",
              "Bed and breakfast          0.208754\n",
              "Hostel                     0.142483\n",
              "Resort                     0.082839\n",
              "Guesthouse                 0.079525\n",
              "Bungalow                   0.062958\n",
              "Aparthotel                 0.036449\n",
              "Villa                      0.029822\n",
              "Tiny house                 0.023195\n",
              "Cabin                      0.013254\n",
              "Earth house                0.013254\n",
              "Casa particular (Cuba)     0.009941\n",
              "Tent                       0.009941\n",
              "Boat                       0.009941\n",
              "Cottage                    0.009941\n",
              "Farm stay                  0.006627\n",
              "Yurt                       0.006627\n",
              "Cave                       0.006627\n",
              "Houseboat                  0.006627\n",
              "Dome house                 0.003314\n",
              "Castle                     0.003314\n",
              "Camper/RV                  0.003314\n",
              "Treehouse                  0.003314\n",
              "Barn                       0.003314\n",
              "Name: property_type, dtype: float64"
            ]
          },
          "metadata": {},
          "execution_count": 327
        }
      ]
    },
    {
      "cell_type": "code",
      "source": [
        "# numero de propiedaddes con parqueaderos  : como vemos la mayoria no tiene\n",
        "C "
      ],
      "metadata": {
        "colab": {
          "base_uri": "https://localhost:8080/"
        },
        "id": "pm5qu4C5xN5O",
        "outputId": "a36837e6-3c09-49a5-9a61-b038641127a1"
      },
      "execution_count": 328,
      "outputs": [
        {
          "output_type": "execute_result",
          "data": {
            "text/plain": [
              "-1    21048\n",
              " 1     9131\n",
              "Name: parking, dtype: int64"
            ]
          },
          "metadata": {},
          "execution_count": 328
        }
      ]
    },
    {
      "cell_type": "markdown",
      "source": [
        "#ANALISIS MULTIVARIADO"
      ],
      "metadata": {
        "id": "ihvgGTXTxf6F"
      }
    },
    {
      "cell_type": "code",
      "source": [
        "# RELACION ENTRE EL PRECIO POR NOCHE Y EL LOS CUARTOS\n",
        "ny_airbnb.groupby('bedrooms')['price'].mean().plot(kind = 'bar')\n",
        "\n"
      ],
      "metadata": {
        "colab": {
          "base_uri": "https://localhost:8080/",
          "height": 306
        },
        "id": "00O9rbWBx8tN",
        "outputId": "be2abbc2-cfaf-40a3-b963-359245c261ac"
      },
      "execution_count": 341,
      "outputs": [
        {
          "output_type": "execute_result",
          "data": {
            "text/plain": [
              "<AxesSubplot:xlabel='bedrooms'>"
            ]
          },
          "metadata": {},
          "execution_count": 341
        },
        {
          "output_type": "display_data",
          "data": {
            "text/plain": [
              "<Figure size 432x288 with 1 Axes>"
            ],
            "image/png": "[encoded data removed]"
          },
          "metadata": {}
        }
      ]
    },
    {
      "cell_type": "code",
      "source": [
        "# RELACION ENTRE EL PRECIO POR NOCHE Y EL LOS CUARTOS\n",
        "ny_airbnb.groupby('host_is_superhost')['price'].mean().plot(kind = 'bar')"
      ],
      "metadata": {
        "colab": {
          "base_uri": "https://localhost:8080/",
          "height": 313
        },
        "id": "H5B-nF-j07nH",
        "outputId": "101b45a2-40fb-43b0-ced2-0b18fe822ff5"
      },
      "execution_count": 342,
      "outputs": [
        {
          "output_type": "execute_result",
          "data": {
            "text/plain": [
              "<AxesSubplot:xlabel='host_is_superhost'>"
            ]
          },
          "metadata": {},
          "execution_count": 342
        },
        {
          "output_type": "display_data",
          "data": {
            "text/plain": [
              "<Figure size 432x288 with 1 Axes>"
            ],
            "image/png": "[encoded data removed]"
          },
          "metadata": {}
        }
      ]
    },
    {
      "cell_type": "code",
      "source": [
        "median_order = ny_airbnb.groupby('property_type')['price'].mean().sort_values().index\n",
        "median_order\n",
        "\n"
      ],
      "metadata": {
        "colab": {
          "base_uri": "https://localhost:8080/"
        },
        "id": "vwv2mPDy1aSz",
        "outputId": "78fc47ee-ffa7-46f3-8e26-7d7df6f5f00a"
      },
      "execution_count": 352,
      "outputs": [
        {
          "output_type": "execute_result",
          "data": {
            "text/plain": [
              "Index(['Treehouse', 'Earth house', 'Dome house', 'Hostel', 'Castle',\n",
              "       'Farm stay', 'Barn', 'Casa particular (Cuba)', 'Tiny house',\n",
              "       'Guesthouse', 'Camper/RV', 'House', 'Bed and breakfast', 'Guest suite',\n",
              "       'Yurt', 'Townhouse', 'Apartment', 'Bungalow', 'Cottage', 'Villa',\n",
              "       'Cabin', 'Loft', 'Other', 'Cave', 'Houseboat', 'Condominium', 'Hotel',\n",
              "       'Boat', 'Tent', 'Serviced apartment', 'Boutique hotel', 'Aparthotel',\n",
              "       'Resort'],\n",
              "      dtype='object', name='property_type')"
            ]
          },
          "metadata": {},
          "execution_count": 352
        }
      ]
    },
    {
      "cell_type": "code",
      "source": [
        "grafica = plt.figure(figsize = (10,10))\n",
        "sns.boxenplot(data= ny_airbnb,\n",
        "              y = 'property_type',\n",
        "              x= 'price',\n",
        "              order = median_order)\n",
        "plt.xlabel('Precio en dolares')\n",
        "plt.ylabel('Tipo de propiedad')\n",
        "plt.title('Precio del hospedaje en funcion del tipo de propiedad')\n"
      ],
      "metadata": {
        "colab": {
          "base_uri": "https://localhost:8080/",
          "height": 644
        },
        "id": "SEpTkBBl2rcW",
        "outputId": "db4afa87-ec7b-43d2-e12e-0db86d36f7d3"
      },
      "execution_count": 357,
      "outputs": [
        {
          "output_type": "execute_result",
          "data": {
            "text/plain": [
              "Text(0.5, 1.0, 'Precio del hospedaje en funcion del tipo de propiedad')"
            ]
          },
          "metadata": {},
          "execution_count": 357
        },
        {
          "output_type": "display_data",
          "data": {
            "text/plain": [
              "<Figure size 720x720 with 1 Axes>"
            ],
            "image/png": "[encoded data removed]"
          },
          "metadata": {}
        }
      ]
    },
    {
      "cell_type": "code",
      "source": [
        "median_order = ny_airbnb.groupby('neighbourhood')['price'].mean().sort_values().index\n",
        "median_order"
      ],
      "metadata": {
        "colab": {
          "base_uri": "https://localhost:8080/"
        },
        "id": "Bz441hfU3yu6",
        "outputId": "4f57c80c-8c7a-4525-e042-7b5d2e7c351b"
      },
      "execution_count": 358,
      "outputs": [
        {
          "output_type": "execute_result",
          "data": {
            "text/plain": [
              "Index(['Concord', 'Grasmere', 'Westerleigh', 'New Brighton', 'Hunts Point',\n",
              "       'Castleton Corners', 'Tompkinsville', 'Meiers Corners', 'Parkchester',\n",
              "       'Bronxdale',\n",
              "       ...\n",
              "       'Chelsea', 'Soho', 'Murray Hill', 'Midtown East', 'West Village',\n",
              "       'Financial District', 'Cobble Hill', 'Flatiron District', 'Tribeca',\n",
              "       'Noho'],\n",
              "      dtype='object', name='neighbourhood', length=186)"
            ]
          },
          "metadata": {},
          "execution_count": 358
        }
      ]
    },
    {
      "cell_type": "code",
      "source": [
        "grafica = plt.figure(figsize = (100,100))\n",
        "sns.boxenplot(data= ny_airbnb,\n",
        "              y = 'neighbourhood',\n",
        "              x= 'price',\n",
        "              order = median_order)\n",
        "plt.xlabel('Precio en dolares')\n",
        "plt.ylabel('Barrio')\n",
        "plt.title('Precio del hospedaje en funcion del barrio')"
      ],
      "metadata": {
        "id": "Fx33CKc83-ZC"
      },
      "execution_count": null,
      "outputs": []
    },
    {
      "cell_type": "markdown",
      "source": [
        "es muy dificil verlo pero es evidence que a mas precio se determina el barrio."
      ],
      "metadata": {
        "id": "7bepYerQ4Qub"
      }
    },
    {
      "cell_type": "code",
      "source": [
        "sns.jointplot(data = ny_airbnb,\n",
        "              x='longitude', \n",
        "              y='latitude', \n",
        "              kind=\"hex\", # define la forma de las zonas que vamos a construir\n",
        "              color = 'red')\n",
        "\n",
        "plt.xlabel('Longitud')\n",
        "plt.ylabel('Latitud')\n",
        "plt.title('Hospedajes en función de la ubicación')\n",
        "plt.tight_layout() # Evita el sobrelapamiento de elementos"
      ],
      "metadata": {
        "colab": {
          "base_uri": "https://localhost:8080/",
          "height": 437
        },
        "id": "2IaYIxtF4rP6",
        "outputId": "979e7fff-7e1b-429d-d231-43f6ee42da80"
      },
      "execution_count": 363,
      "outputs": [
        {
          "output_type": "display_data",
          "data": {
            "text/plain": [
              "<Figure size 432x432 with 3 Axes>"
            ],
            "image/png": "[encoded data removed]"
          },
          "metadata": {}
        }
      ]
    }
  ]
}